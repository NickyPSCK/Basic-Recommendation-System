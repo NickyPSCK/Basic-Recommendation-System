{
 "cells": [
  {
   "cell_type": "markdown",
   "metadata": {},
   "source": [
    "# Basic Recommendation System by Prasit C."
   ]
  },
  {
   "cell_type": "markdown",
   "metadata": {},
   "source": [
    "## Import library"
   ]
  },
  {
   "cell_type": "code",
   "execution_count": 1,
   "metadata": {},
   "outputs": [],
   "source": [
    "import numpy as np\n",
    "import pandas as pd"
   ]
  },
  {
   "cell_type": "markdown",
   "metadata": {},
   "source": [
    "## Loading Test Data Set"
   ]
  },
  {
   "cell_type": "code",
   "execution_count": 2,
   "metadata": {},
   "outputs": [
    {
     "data": {
      "text/html": [
       "<div>\n",
       "<style scoped>\n",
       "    .dataframe tbody tr th:only-of-type {\n",
       "        vertical-align: middle;\n",
       "    }\n",
       "\n",
       "    .dataframe tbody tr th {\n",
       "        vertical-align: top;\n",
       "    }\n",
       "\n",
       "    .dataframe thead th {\n",
       "        text-align: right;\n",
       "    }\n",
       "</style>\n",
       "<table border=\"1\" class=\"dataframe\">\n",
       "  <thead>\n",
       "    <tr style=\"text-align: right;\">\n",
       "      <th></th>\n",
       "      <th>movieId</th>\n",
       "      <th>title</th>\n",
       "      <th>userId</th>\n",
       "      <th>rating</th>\n",
       "    </tr>\n",
       "  </thead>\n",
       "  <tbody>\n",
       "    <tr>\n",
       "      <th>0</th>\n",
       "      <td>1</td>\n",
       "      <td>Toy Story (1995)</td>\n",
       "      <td>1</td>\n",
       "      <td>4.0</td>\n",
       "    </tr>\n",
       "    <tr>\n",
       "      <th>1</th>\n",
       "      <td>1</td>\n",
       "      <td>Toy Story (1995)</td>\n",
       "      <td>5</td>\n",
       "      <td>4.0</td>\n",
       "    </tr>\n",
       "    <tr>\n",
       "      <th>2</th>\n",
       "      <td>1</td>\n",
       "      <td>Toy Story (1995)</td>\n",
       "      <td>7</td>\n",
       "      <td>4.5</td>\n",
       "    </tr>\n",
       "    <tr>\n",
       "      <th>3</th>\n",
       "      <td>1</td>\n",
       "      <td>Toy Story (1995)</td>\n",
       "      <td>15</td>\n",
       "      <td>2.5</td>\n",
       "    </tr>\n",
       "    <tr>\n",
       "      <th>4</th>\n",
       "      <td>1</td>\n",
       "      <td>Toy Story (1995)</td>\n",
       "      <td>17</td>\n",
       "      <td>4.5</td>\n",
       "    </tr>\n",
       "  </tbody>\n",
       "</table>\n",
       "</div>"
      ],
      "text/plain": [
       "   movieId             title  userId  rating\n",
       "0        1  Toy Story (1995)       1     4.0\n",
       "1        1  Toy Story (1995)       5     4.0\n",
       "2        1  Toy Story (1995)       7     4.5\n",
       "3        1  Toy Story (1995)      15     2.5\n",
       "4        1  Toy Story (1995)      17     4.5"
      ]
     },
     "execution_count": 2,
     "metadata": {},
     "output_type": "execute_result"
    }
   ],
   "source": [
    "ratings = pd.read_csv('ml-latest-small/ratings.csv', usecols=range(3))\n",
    "movies = pd.read_csv('ml-latest-small/movies.csv', usecols=range(2))\n",
    "data = pd.merge(movies, ratings)\n",
    "data.head()"
   ]
  },
  {
   "cell_type": "markdown",
   "metadata": {},
   "source": [
    "## Item Based Collaborative Filtering"
   ]
  },
  {
   "cell_type": "code",
   "execution_count": 3,
   "metadata": {},
   "outputs": [],
   "source": [
    "class ItemBasedCollaborative:\n",
    "    def __init__(self, data, col_name_user_id, col_name_item_name, col_name_rating, min_periods):\n",
    "        self.data = data.copy()\n",
    "        self.col_name_user_id = col_name_user_id\n",
    "        self.col_name_item_name = col_name_item_name\n",
    "        self.col_name_rating = col_name_rating\n",
    "        self.ratings_matrix = None\n",
    "        self.rating_corr_matrix = None\n",
    "        self.min_periods = min_periods\n",
    "        \n",
    "    def fit(self):\n",
    "        self.ratings_matrix = self.data.pivot_table(index=[self.col_name_user_id], \n",
    "                                               columns=[self.col_name_item_name], \n",
    "                                               values=self.col_name_rating)\n",
    "        \n",
    "        self.rating_corr_matrix = self.ratings_matrix.corr(method='pearson', min_periods = self.min_periods)\n",
    "\n",
    "    def make_recommendation(self, item_rating_dict, top_n = None):\n",
    "        if self.rating_corr_matrix is not None:\n",
    "            all_candidates = pd.Series()\n",
    "\n",
    "            for item in item_rating_dict:\n",
    "                candidates = self.rating_corr_matrix[item].dropna()\n",
    "                candidates = candidates.map(lambda x: x * item_rating_dict[item])\n",
    "                all_candidates = all_candidates.append(candidates)\n",
    "\n",
    "            # Remove duplicate\n",
    "            all_candidates = all_candidates.groupby(all_candidates.index).sum()    \n",
    "            all_candidates.sort_values(inplace=True, ascending=False)\n",
    "\n",
    "            # Remove itself\n",
    "            all_candidates = all_candidates.drop(item_rating_dict.keys(), errors='ignore')\n",
    "\n",
    "            if top_n is None:\n",
    "                return all_candidates\n",
    "            else:\n",
    "                return all_candidates[:top_n]\n",
    "        else:\n",
    "            raise('Please fit the data before make a recommendation.')\n",
    "    \n",
    "    def make_user_recommendation(self, user_id, top_n = None):\n",
    "        if self.rating_corr_matrix is not None:\n",
    "            item_rating_dict = dict(self.data[self.data[self.col_name_user_id ]==user_id]\n",
    "                                    [[self.col_name_item_name,self.col_name_rating]].to_dict('split')['data'])\n",
    "            if top_n is None:\n",
    "                return self.make_recommendation(item_rating_dict)\n",
    "            else:\n",
    "                return self.make_recommendation(item_rating_dict)[:top_n]\n",
    "        else:\n",
    "            raise('Please fit the data before make a recommendation.')"
   ]
  },
  {
   "cell_type": "markdown",
   "metadata": {},
   "source": [
    "### ItemBasedCollaborative Example"
   ]
  },
  {
   "cell_type": "markdown",
   "metadata": {},
   "source": [
    "#### Example: Fit a model"
   ]
  },
  {
   "cell_type": "code",
   "execution_count": 4,
   "metadata": {},
   "outputs": [],
   "source": [
    "ibc = ItemBasedCollaborative(data, 'userId', 'title', 'rating', 100)\n",
    "ibc.fit()"
   ]
  },
  {
   "cell_type": "markdown",
   "metadata": {},
   "source": [
    "#### Example: Finding similar movie"
   ]
  },
  {
   "cell_type": "code",
   "execution_count": 5,
   "metadata": {
    "scrolled": false
   },
   "outputs": [
    {
     "data": {
      "text/plain": [
       "title\n",
       "Matrix, The (1999)    1.000000\n",
       "Die Hard (1988)       0.544466\n",
       "Inception (2010)      0.514767\n",
       "Braveheart (1995)     0.496045\n",
       "Aliens (1986)         0.470865\n",
       "Name: Matrix, The (1999), dtype: float64"
      ]
     },
     "execution_count": 5,
     "metadata": {},
     "output_type": "execute_result"
    }
   ],
   "source": [
    "similar_movie = ibc.rating_corr_matrix['Matrix, The (1999)'].dropna()\n",
    "similar_movie.sort_values(inplace=True, ascending=False)\n",
    "similar_movie.head()"
   ]
  },
  {
   "cell_type": "markdown",
   "metadata": {},
   "source": [
    "#### Example: Make a recommendation using arbitrary user profile"
   ]
  },
  {
   "cell_type": "code",
   "execution_count": 6,
   "metadata": {
    "scrolled": true
   },
   "outputs": [
    {
     "data": {
      "text/plain": [
       "Braveheart (1995)             4.565105\n",
       "Inception (2010)              4.239366\n",
       "Good Will Hunting (1997)      4.000757\n",
       "Saving Private Ryan (1998)    3.990310\n",
       "Die Hard (1988)               3.708853\n",
       "Monsters, Inc. (2001)         3.676873\n",
       "Finding Nemo (2003)           3.614290\n",
       "Jurassic Park (1993)          3.590251\n",
       "Truman Show, The (1998)       3.499706\n",
       "Reservoir Dogs (1992)         3.148039\n",
       "dtype: float64"
      ]
     },
     "execution_count": 6,
     "metadata": {},
     "output_type": "execute_result"
    }
   ],
   "source": [
    "dicts = {'Forrest Gump (1994)': 5.0, 'Matrix, The (1999)':5.0}\n",
    "ibc.make_recommendation(dicts, 10)"
   ]
  },
  {
   "cell_type": "markdown",
   "metadata": {},
   "source": [
    "#### Example: Make a user recommendation"
   ]
  },
  {
   "cell_type": "code",
   "execution_count": 7,
   "metadata": {},
   "outputs": [
    {
     "data": {
      "text/plain": [
       "Terminator 2: Judgment Day (1991)                            34.185307\n",
       "Shawshank Redemption, The (1994)                             25.529866\n",
       "Godfather, The (1972)                                        20.061134\n",
       "Sixth Sense, The (1999)                                      15.341456\n",
       "Lord of the Rings: The Two Towers, The (2002)                13.045573\n",
       "Lord of the Rings: The Return of the King, The (2003)        12.615894\n",
       "Aladdin (1992)                                               12.141136\n",
       "Lord of the Rings: The Fellowship of the Ring, The (2001)    10.909863\n",
       "True Lies (1994)                                             10.593481\n",
       "Lion King, The (1994)                                        10.080328\n",
       "dtype: float64"
      ]
     },
     "execution_count": 7,
     "metadata": {},
     "output_type": "execute_result"
    }
   ],
   "source": [
    "user_id = 1\n",
    "ibc.make_user_recommendation(user_id, 10)"
   ]
  },
  {
   "cell_type": "markdown",
   "metadata": {},
   "source": [
    "## User Based Collaborative Filtering"
   ]
  },
  {
   "cell_type": "code",
   "execution_count": 8,
   "metadata": {},
   "outputs": [],
   "source": [
    "class UserBasedCollaborative:\n",
    "    def __init__(self, data, col_name_user_id, col_name_item_name, col_name_rating, min_periods):\n",
    "        self.data = data.copy()\n",
    "        self.col_name_user_id = col_name_user_id\n",
    "        self.col_name_item_name = col_name_item_name\n",
    "        self.col_name_rating = col_name_rating\n",
    "        self.min_periods = min_periods\n",
    "        \n",
    "    def fit(self):\n",
    "        self.ratings_matrix = self.data.pivot_table(index=[self.col_name_item_name], \n",
    "                                               columns=[self.col_name_user_id], \n",
    "                                               values=self.col_name_rating)\n",
    "        self.rating_corr_matrix = self.ratings_matrix.corr(method='pearson', min_periods=self.min_periods)\n",
    "        \n",
    "    def make_recommendation(self, user, top_n_user=10):\n",
    "        \n",
    "        candidate_user = self.rating_corr_matrix[user].dropna()\n",
    "        candidate_user.sort_values(inplace=True, ascending=False)\n",
    "        candidate_user = candidate_user.drop(user)[:top_n_user]\n",
    "        \n",
    "        self.candidate_user = candidate_user.copy()\n",
    "        \n",
    "        candidate_movie = set()\n",
    "        seed_user_movie = set(self.data[self.data[self.col_name_user_id]==user][self.col_name_item_name])\n",
    "        \n",
    "        # Finding unseen item from top-n candidate user\n",
    "        for similar_user in candidate_user.index:\n",
    "            candidate_set = set(self.data[self.data[self.col_name_user_id]==similar_user][self.col_name_item_name])\n",
    "            candidate_movie = candidate_movie.union((candidate_set.difference(seed_user_movie)))\n",
    "        return list(candidate_movie)\n",
    "    "
   ]
  },
  {
   "cell_type": "markdown",
   "metadata": {},
   "source": [
    "### UserBasedCollaborative Example"
   ]
  },
  {
   "cell_type": "markdown",
   "metadata": {},
   "source": [
    "#### Example: Fit a model"
   ]
  },
  {
   "cell_type": "code",
   "execution_count": 9,
   "metadata": {},
   "outputs": [],
   "source": [
    "ubc = UserBasedCollaborative(data, 'userId', 'title', 'rating', 100)\n",
    "ubc.fit()"
   ]
  },
  {
   "cell_type": "markdown",
   "metadata": {},
   "source": [
    "#### Example: Make a recommendation"
   ]
  },
  {
   "cell_type": "code",
   "execution_count": 10,
   "metadata": {
    "scrolled": false
   },
   "outputs": [
    {
     "data": {
      "text/plain": [
       "['Demolition Man (1993)',\n",
       " 'Canadian Bacon (1995)',\n",
       " 'Hard Target (1993)',\n",
       " 'RoboCop 3 (1993)',\n",
       " 'Johnny Mnemonic (1995)',\n",
       " 'Searching for Bobby Fischer (1993)',\n",
       " 'Clueless (1995)',\n",
       " 'Phantom, The (1996)',\n",
       " 'Airheads (1994)',\n",
       " 'Beverly Hills Cop III (1994)',\n",
       " 'Shadow, The (1994)',\n",
       " 'Mortal Kombat (1995)',\n",
       " 'Pocahontas (1995)',\n",
       " 'Judge Dredd (1995)',\n",
       " 'Jade (1995)',\n",
       " 'Tales from the Crypt Presents: Demon Knight (1995)',\n",
       " 'Toy Story (1995)',\n",
       " 'Jerky Boys, The (1995)',\n",
       " 'Drop Zone (1994)',\n",
       " 'Free Willy 2: The Adventure Home (1995)',\n",
       " 'Dragonheart (1996)',\n",
       " '101 Dalmatians (1996)',\n",
       " 'Boomerang (1992)',\n",
       " 'Jingle All the Way (1996)',\n",
       " 'Nutty Professor, The (1996)',\n",
       " 'Kazaam (1996)',\n",
       " 'Star Trek: First Contact (1996)',\n",
       " 'Mulholland Falls (1996)',\n",
       " 'Operation Dumbo Drop (1995)',\n",
       " 'For Love or Money (1993)',\n",
       " 'Nightmare Before Christmas, The (1993)',\n",
       " 'Virtuosity (1995)',\n",
       " 'Space Jam (1996)',\n",
       " 'Boxing Helena (1993)']"
      ]
     },
     "execution_count": 10,
     "metadata": {},
     "output_type": "execute_result"
    }
   ],
   "source": [
    "user_id = 6\n",
    "ubc.make_recommendation(user_id, top_n_user = 2)"
   ]
  },
  {
   "cell_type": "markdown",
   "metadata": {},
   "source": [
    "#### Example: Similar User"
   ]
  },
  {
   "cell_type": "code",
   "execution_count": 11,
   "metadata": {},
   "outputs": [
    {
     "data": {
      "text/plain": [
       "userId\n",
       "181    0.433193\n",
       "240    0.268207\n",
       "Name: 6, dtype: float64"
      ]
     },
     "execution_count": 11,
     "metadata": {},
     "output_type": "execute_result"
    }
   ],
   "source": [
    "ubc.candidate_user"
   ]
  }
 ],
 "metadata": {
  "kernelspec": {
   "display_name": "Python 3",
   "language": "python",
   "name": "python3"
  },
  "language_info": {
   "codemirror_mode": {
    "name": "ipython",
    "version": 3
   },
   "file_extension": ".py",
   "mimetype": "text/x-python",
   "name": "python",
   "nbconvert_exporter": "python",
   "pygments_lexer": "ipython3",
   "version": "3.7.3"
  }
 },
 "nbformat": 4,
 "nbformat_minor": 2
}
